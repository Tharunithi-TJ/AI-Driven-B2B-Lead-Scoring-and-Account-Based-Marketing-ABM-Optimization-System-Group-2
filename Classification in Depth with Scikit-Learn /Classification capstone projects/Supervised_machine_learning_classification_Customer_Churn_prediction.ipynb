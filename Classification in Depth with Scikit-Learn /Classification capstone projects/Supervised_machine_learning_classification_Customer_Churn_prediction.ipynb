{
  "nbformat": 4,
  "nbformat_minor": 0,
  "metadata": {
    "colab": {
      "provenance": []
    },
    "kernelspec": {
      "name": "python3",
      "display_name": "Python 3"
    },
    "language_info": {
      "name": "python"
    }
  },
  "cells": [
    {
      "cell_type": "code",
      "execution_count": null,
      "metadata": {
        "id": "_Fk0y1fmoZlD"
      },
      "outputs": [],
      "source": [
        "import pandas as pd\n",
        "import numpy as np\n",
        "from sklearn.model_selection import train_test_split, GridSearchCV\n",
        "from sklearn.metrics import accuracy_score, precision_score, recall_score, f1_score, roc_auc_score, roc_curve\n",
        "from xgboost import XGBClassifier\n",
        "import matplotlib.pyplot as plt"
      ]
    },
    {
      "cell_type": "code",
      "source": [
        "df = pd.read_csv('churn_train.csv')"
      ],
      "metadata": {
        "id": "4xo5O-cq3QAF"
      },
      "execution_count": null,
      "outputs": []
    },
    {
      "cell_type": "code",
      "source": [
        "# Display the first few rows of the dataset\n",
        "print(\"Dataset Overview:\")\n",
        "print(data.head())\n",
        "\n",
        "# Display dataset information\n",
        "print(\"\\nDataset Info:\")\n",
        "print(data.info())\n",
        "\n",
        "# Step 3: Exploratory Data Analysis (EDA)\n",
        "# Check for missing values\n",
        "print(\"\\nMissing Values:\\n\", data.isnull().sum())\n",
        "\n",
        "# Check basic statistics of numerical features\n",
        "print(\"\\nBasic Statistics:\\n\", data.describe())"
      ],
      "metadata": {
        "collapsed": true,
        "id": "WUjGCXDe37Ex"
      },
      "execution_count": null,
      "outputs": []
    },
    {
      "cell_type": "code",
      "source": [
        "# Step 1: Data Cleaning and Exploration\n",
        "# Drop unnecessary columns\n",
        "data.drop(['rownumber', 'customerid', 'surname'], axis=1, inplace=True)\n",
        "\n",
        "# Handle missing values\n",
        "data.fillna(method='ffill', inplace=True)\n",
        "\n",
        "# Encode categorical variables\n",
        "data = pd.get_dummies(data, columns=['geography', 'gender'], drop_first=True)"
      ],
      "metadata": {
        "id": "FUr38ByC391w"
      },
      "execution_count": null,
      "outputs": []
    },
    {
      "cell_type": "code",
      "source": [
        "# Step 2: Feature Engineering\n",
        "# Create interaction-based features\n",
        "data['balance_to_product_ratio'] = data['balance'] / (data['numofproducts'] + 1)\n",
        "data['age_to_tenure_ratio'] = data['age'] / (data['tenure'] + 1)\n",
        "\n",
        "# Define features (X) and target variable (y)\n",
        "X = data.drop('exited', axis=1)  # 'exited' is the target variable\n",
        "y = data['exited']\n"
      ],
      "metadata": {
        "id": "QtRzR83r4DXP"
      },
      "execution_count": null,
      "outputs": []
    },
    {
      "cell_type": "code",
      "source": [
        "# Split the dataset into training and testing sets\n",
        "X_train, X_test, y_train, y_test = train_test_split(X, y, test_size=0.2, random_state=42)"
      ],
      "metadata": {
        "id": "7hzBfd3m4PwY"
      },
      "execution_count": null,
      "outputs": []
    },
    {
      "cell_type": "code",
      "source": [
        "# Step 3: Model Selection and Tuning\n",
        "# Initialize the XGBClassifier\n",
        "xgb = XGBClassifier(use_label_encoder=False, eval_metric='logloss')\n",
        "\n",
        "# Define parameter grid for tuning\n",
        "param_grid = {\n",
        "    'n_estimators': [50, 100, 200],\n",
        "    'max_depth': [3, 5, 7],\n",
        "    'learning_rate': [0.01, 0.1, 0.2],\n",
        "    'subsample': [0.8, 1.0],\n",
        "    'colsample_bytree': [0.8, 1.0]\n",
        "}\n"
      ],
      "metadata": {
        "id": "mXwxue6S4beF"
      },
      "execution_count": null,
      "outputs": []
    },
    {
      "cell_type": "code",
      "source": [
        "# Perform GridSearchCV\n",
        "grid_search = GridSearchCV(estimator=xgb, param_grid=param_grid, cv=3, scoring='roc_auc', verbose=1, n_jobs=-1)\n",
        "grid_search.fit(X_train, y_train)\n",
        "\n",
        "# Best parameters\n",
        "print(\"Best parameters:\", grid_search.best_params_)\n",
        "\n",
        "# Use the best estimator\n",
        "best_xgb = grid_search.best_estimator_"
      ],
      "metadata": {
        "id": "IwPbbgu04d4s"
      },
      "execution_count": null,
      "outputs": []
    },
    {
      "cell_type": "code",
      "source": [
        "# Step 4: Model Evaluation\n",
        "# Predictions on test set\n",
        "y_pred = best_xgb.predict(X_test)\n",
        "y_prob = best_xgb.predict_proba(X_test)[:, 1]"
      ],
      "metadata": {
        "id": "xyxepaMc4gjX"
      },
      "execution_count": null,
      "outputs": []
    },
    {
      "cell_type": "code",
      "source": [
        "# Evaluation metrics\n",
        "accuracy = accuracy_score(y_test, y_pred)\n",
        "precision = precision_score(y_test, y_pred)\n",
        "recall = recall_score(y_test, y_pred)\n",
        "f1 = f1_score(y_test, y_pred)\n",
        "roc_auc = roc_auc_score(y_test, y_prob)\n",
        "\n",
        "print(f\"Accuracy: {accuracy:.2f}\")\n",
        "print(f\"Precision: {precision:.2f}\")\n",
        "print(f\"Recall: {recall:.2f}\")\n",
        "print(f\"F1 Score: {f1:.2f}\")\n",
        "print(f\"ROC AUC Score: {roc_auc:.2f}\")"
      ],
      "metadata": {
        "id": "1p4JDr5CEQaU"
      },
      "execution_count": null,
      "outputs": []
    },
    {
      "cell_type": "code",
      "source": [
        "# Plot ROC Curve\n",
        "fpr, tpr, thresholds = roc_curve(y_test, y_prob)\n",
        "plt.figure()\n",
        "plt.plot(fpr, tpr, label=f\"ROC Curve (AUC = {roc_auc:.2f})\")\n",
        "plt.xlabel(\"False Positive Rate\")\n",
        "plt.ylabel(\"True Positive Rate\")\n",
        "plt.title(\"ROC Curve\")\n",
        "plt.legend(loc=\"best\")\n",
        "plt.show()"
      ],
      "metadata": {
        "id": "HZU8r9dJNHD5"
      },
      "execution_count": null,
      "outputs": []
    }
  ]
}