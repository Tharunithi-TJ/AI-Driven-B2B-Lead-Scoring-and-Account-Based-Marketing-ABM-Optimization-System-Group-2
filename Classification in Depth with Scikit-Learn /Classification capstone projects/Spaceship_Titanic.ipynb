{
  "nbformat": 4,
  "nbformat_minor": 0,
  "metadata": {
    "colab": {
      "provenance": []
    },
    "kernelspec": {
      "name": "python3",
      "display_name": "Python 3"
    },
    "language_info": {
      "name": "python"
    }
  },
  "cells": [
    {
      "cell_type": "code",
      "execution_count": null,
      "metadata": {
        "id": "_Fk0y1fmoZlD"
      },
      "outputs": [],
      "source": [
        "import pandas as pd\n",
        "import numpy as np\n",
        "import matplotlib.pyplot as plt\n",
        "import seaborn as sns\n",
        "from sklearn.model_selection import train_test_split"
      ]
    },
    {
      "cell_type": "code",
      "source": [
        "data_path = \"train.csv\"\n",
        "data = pd.read_csv(data_path)"
      ],
      "metadata": {
        "id": "4xo5O-cq3QAF"
      },
      "execution_count": null,
      "outputs": []
    },
    {
      "cell_type": "code",
      "source": [
        "# Display the first few rows of the dataset\n",
        "print(\"Dataset Overview:\")\n",
        "print(data.head())\n",
        "\n",
        "# Display dataset information\n",
        "print(\"\\nDataset Info:\")\n",
        "print(data.info())\n",
        "\n",
        "# Step 3: Exploratory Data Analysis (EDA)\n",
        "# Check for missing values\n",
        "print(\"\\nMissing Values:\\n\", data.isnull().sum())\n",
        "\n",
        "# Check basic statistics of numerical features\n",
        "print(\"\\nBasic Statistics:\\n\", data.describe())"
      ],
      "metadata": {
        "collapsed": true,
        "id": "WUjGCXDe37Ex"
      },
      "execution_count": null,
      "outputs": []
    },
    {
      "cell_type": "code",
      "source": [
        "# Visualize the distribution of key variables\n",
        "# Example: Visualize a target variable, replace 'Target' with the actual column name\n",
        "if 'Target' in data.columns:\n",
        "    sns.countplot(x='Target', data=data)\n",
        "    plt.title(\"Target Variable Distribution\")\n",
        "    plt.show()\n",
        "\n",
        "# Visualize correlations (numerical features)\n",
        "plt.figure(figsize=(10, 6))\n",
        "sns.heatmap(data.corr(), annot=True, cmap='coolwarm')\n",
        "plt.title(\"Correlation Matrix\")\n",
        "plt.show()"
      ],
      "metadata": {
        "id": "FUr38ByC391w"
      },
      "execution_count": null,
      "outputs": []
    },
    {
      "cell_type": "code",
      "source": [
        "# Step 4: Preprocess the Data\n",
        "# Drop unnecessary columns: 'PassengerId' and 'Name'\n",
        "columns_to_drop = ['PassengerId', 'Name']\n",
        "data = data.drop(columns=columns_to_drop, errors='ignore')\n",
        "\n",
        "# Splitting 'Cabin' into Deck, Number, and Side\n",
        "if 'Cabin' in data.columns:\n",
        "    data['CabinDeck'] = data['Cabin'].str.extract(r'([A-Za-z])', expand=False)\n",
        "    data['CabinNumber'] = data['Cabin'].str.extract(r'(\\d+)', expand=False).astype(float)\n",
        "    data['CabinSide'] = data['Cabin'].str.extract(r'([A-Za-z])$', expand=False)\n",
        "    data.drop(columns=['Cabin'], inplace=True)\n",
        "\n",
        "print(\"\\nData after splitting 'Cabin':\")\n",
        "print(data.head())"
      ],
      "metadata": {
        "id": "QtRzR83r4DXP"
      },
      "execution_count": null,
      "outputs": []
    },
    {
      "cell_type": "code",
      "source": [
        "# Step 5: Feature Encoding\n",
        "# One-hot encoding for nominal features\n",
        "nominal_features = data.select_dtypes(include='object').columns\n",
        "print(\"\\nNominal Features:\", nominal_features)\n",
        "\n",
        "data = pd.get_dummies(data, columns=nominal_features, drop_first=True)\n",
        "\n",
        "print(\"\\nData after encoding nominal features:\")\n",
        "print(data.head())"
      ],
      "metadata": {
        "id": "7hzBfd3m4PwY"
      },
      "execution_count": null,
      "outputs": []
    },
    {
      "cell_type": "code",
      "source": [
        "# Step 6: Handle Missing Values (Optional)\n",
        "# Fill missing values (if any) with appropriate strategies\n",
        "data.fillna(data.median(), inplace=True)"
      ],
      "metadata": {
        "id": "mXwxue6S4beF"
      },
      "execution_count": null,
      "outputs": []
    },
    {
      "cell_type": "code",
      "source": [
        "# Step 7: Split the Dataset\n",
        "# Replace 'Target' with the actual target column name in your dataset\n",
        "target_column = 'Target'  # Replace with your actual target column name\n",
        "X = data.drop(columns=[target_column], errors='ignore')\n",
        "y = data[target_column]"
      ],
      "metadata": {
        "id": "IwPbbgu04d4s"
      },
      "execution_count": null,
      "outputs": []
    },
    {
      "cell_type": "code",
      "source": [
        "# Split the data into training and testing sets\n",
        "X_train, X_test, y_train, y_test = train_test_split(X, y, test_size=0.2, random_state=42)"
      ],
      "metadata": {
        "id": "xyxepaMc4gjX"
      },
      "execution_count": null,
      "outputs": []
    },
    {
      "cell_type": "code",
      "source": [
        "# Display the final dataset shapes\n",
        "print(\"\\nFinal Dataset Shapes:\")\n",
        "print(f\"X_train: {X_train.shape}, X_test: {X_test.shape}\")\n",
        "print(f\"y_train: {y_train.shape}, y_test: {y_test.shape}\")"
      ],
      "metadata": {
        "id": "1p4JDr5CEQaU"
      },
      "execution_count": null,
      "outputs": []
    },
    {
      "cell_type": "code",
      "source": [
        "from sklearn.ensemble import RandomForestClassifier  # Example model\n",
        "from sklearn.metrics import accuracy_score, precision_score, recall_score, f1_score\n",
        "\n",
        "# Example: Train a Random Forest Classifier (replace with your actual model and data)\n",
        "clf = RandomForestClassifier(random_state=42, n_estimators=100)\n",
        "clf.fit(X_train, y_train)\n",
        "\n",
        "# Predictions\n",
        "y_train_pred = clf.predict(X_train)\n",
        "y_test_pred = clf.predict(X_test)\n",
        "\n",
        "# Metrics for Training Data\n",
        "train_accuracy = accuracy_score(y_train, y_train_pred)\n",
        "\n",
        "# Metrics for Test Data\n",
        "test_accuracy = accuracy_score(y_test, y_test_pred)\n",
        "test_precision = precision_score(y_test, y_test_pred, average='weighted')  # Adjust average as needed\n",
        "test_recall = recall_score(y_test, y_test_pred, average='weighted')\n",
        "test_f1score = f1_score(y_test, y_test_pred, average='weighted')\n",
        "\n",
        "# Print Results\n",
        "print(f\"Train Accuracy: {train_accuracy:.4f}\")\n",
        "print(f\"Test Accuracy: {test_accuracy:.4f}\")\n",
        "print(f\"Test Precision: {test_precision:.4f}\")\n",
        "print(f\"Test Recall: {test_recall:.4f}\")\n",
        "print(f\"Test F1 Score: {test_f1score:.4f}\")\n"
      ],
      "metadata": {
        "id": "HZU8r9dJNHD5"
      },
      "execution_count": null,
      "outputs": []
    }
  ]
}