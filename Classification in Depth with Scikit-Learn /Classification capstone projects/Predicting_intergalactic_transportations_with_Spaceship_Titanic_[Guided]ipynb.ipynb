{
  "nbformat": 4,
  "nbformat_minor": 0,
  "metadata": {
    "colab": {
      "provenance": []
    },
    "kernelspec": {
      "name": "python3",
      "display_name": "Python 3"
    },
    "language_info": {
      "name": "python"
    }
  },
  "cells": [
    {
      "cell_type": "code",
      "execution_count": null,
      "metadata": {
        "id": "_Fk0y1fmoZlD"
      },
      "outputs": [],
      "source": [
        "import pandas as pd\n",
        "import numpy as np\n",
        "\n",
        "from sklearn.model_selection import train_test_split"
      ]
    },
    {
      "cell_type": "code",
      "source": [
        "df = pd.read_csv('spaceship_passengers.csv')"
      ],
      "metadata": {
        "id": "4xo5O-cq3QAF"
      },
      "execution_count": null,
      "outputs": []
    },
    {
      "cell_type": "code",
      "source": [
        "df.head()"
      ],
      "metadata": {
        "collapsed": true,
        "id": "WUjGCXDe37Ex"
      },
      "execution_count": null,
      "outputs": []
    },
    {
      "cell_type": "code",
      "source": [
        "df['CryoSleep'].isna().sum()"
      ],
      "metadata": {
        "id": "FUr38ByC391w"
      },
      "execution_count": null,
      "outputs": []
    },
    {
      "cell_type": "code",
      "source": [
        "df['FoodCourt'].isna().sum()"
      ],
      "metadata": {
        "id": "QtRzR83r4DXP"
      },
      "execution_count": null,
      "outputs": []
    },
    {
      "cell_type": "code",
      "source": [
        "df['PassengerId'].isna().sum()"
      ],
      "metadata": {
        "id": "7hzBfd3m4PwY"
      },
      "execution_count": null,
      "outputs": []
    },
    {
      "cell_type": "code",
      "source": [
        "df['Destination'].isna().sum()"
      ],
      "metadata": {
        "id": "mXwxue6S4beF"
      },
      "execution_count": null,
      "outputs": []
    },
    {
      "cell_type": "code",
      "source": [
        "df.fillna({\n",
        "    \"RoomService\": 0,\n",
        "    \"FoodCourt\": 0,\n",
        "    \"ShoppingMall\": 0,\n",
        "    \"Spa\": 0,\n",
        "    \"VRDeck\": 0,\n",
        "}, inplace=True)"
      ],
      "metadata": {
        "id": "IwPbbgu04d4s"
      },
      "execution_count": null,
      "outputs": []
    },
    {
      "cell_type": "code",
      "source": [
        "df.fillna({\"VIP\": False}, inplace=True)"
      ],
      "metadata": {
        "id": "xyxepaMc4gjX"
      },
      "execution_count": null,
      "outputs": []
    },
    {
      "cell_type": "code",
      "source": [
        "df.drop(columns=['PassengerId', 'Name'], inplace=True)"
      ],
      "metadata": {
        "id": "1p4JDr5CEQaU"
      },
      "execution_count": null,
      "outputs": []
    },
    {
      "cell_type": "code",
      "source": [
        "df.dropna(inplace=True)"
      ],
      "metadata": {
        "id": "_wPegpaPLxus"
      },
      "execution_count": null,
      "outputs": []
    },
    {
      "cell_type": "code",
      "source": [
        "features_to_encode = [\n",
        "    \"CryoSleep\", \"VIP\", \"HomePlanet\", \"Destination\", \"CabinDeck\", \"CabinSide\",\n",
        "]"
      ],
      "metadata": {
        "id": "Puj3pyooLx3N"
      },
      "execution_count": null,
      "outputs": []
    },
    {
      "cell_type": "code",
      "source": [
        "df_train = df_final.drop(columns=['Transported'])\n",
        "transported = df['Transported']\n"
      ],
      "metadata": {
        "id": "RdOZiIsFL481"
      },
      "execution_count": null,
      "outputs": []
    },
    {
      "cell_type": "code",
      "source": [
        "rf = RandomForestClassifier(random_state=42)\n",
        "param_grid = {'max_depth': range(5, 25)}\n",
        "grid_search = GridSearchCV(rf, param_grid, cv=5)\n",
        "\n",
        "# Fit the GridSearchCV object to the data\n",
        "grid_search.fit(X_train, y_train)\n"
      ],
      "metadata": {
        "id": "y3CPMrpRL5EJ"
      },
      "execution_count": null,
      "outputs": []
    },
    {
      "cell_type": "code",
      "source": [
        "model = RandomForestClassifier(random_state=42, max_depth=20)\n",
        "model.fit(X_train, y_train)\n"
      ],
      "metadata": {
        "id": "gLWvkan9MBX_"
      },
      "execution_count": null,
      "outputs": []
    }
  ]
}