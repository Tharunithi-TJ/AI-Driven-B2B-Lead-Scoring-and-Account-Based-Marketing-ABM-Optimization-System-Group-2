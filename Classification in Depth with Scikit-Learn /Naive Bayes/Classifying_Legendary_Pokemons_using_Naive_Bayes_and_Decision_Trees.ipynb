{
  "nbformat": 4,
  "nbformat_minor": 0,
  "metadata": {
    "colab": {
      "provenance": []
    },
    "kernelspec": {
      "name": "python3",
      "display_name": "Python 3"
    },
    "language_info": {
      "name": "python"
    }
  },
  "cells": [
    {
      "cell_type": "code",
      "execution_count": null,
      "metadata": {
        "id": "_Fk0y1fmoZlD"
      },
      "outputs": [],
      "source": [
        "import numpy as np\n",
        "import pandas as pd\n",
        "import matplotlib.pyplot as plt"
      ]
    },
    {
      "cell_type": "code",
      "source": [
        "df = pd.read_csv('Pokemon.csv')\n",
        "df.head()"
      ],
      "metadata": {
        "id": "4xo5O-cq3QAF"
      },
      "execution_count": null,
      "outputs": []
    },
    {
      "cell_type": "code",
      "source": [
        "df.info()"
      ],
      "metadata": {
        "collapsed": true,
        "id": "WUjGCXDe37Ex"
      },
      "execution_count": null,
      "outputs": []
    },
    {
      "cell_type": "code",
      "source": [
        "legendaries_df = df.loc[df['Legendary'], :]\n",
        "legendaries_df.shape[0]"
      ],
      "metadata": {
        "id": "FUr38ByC391w"
      },
      "execution_count": null,
      "outputs": []
    },
    {
      "cell_type": "code",
      "source": [
        "legendaries_df = df.loc[df['Legendary'], :]\n",
        "legendaries_df.Attack.mean()\n"
      ],
      "metadata": {
        "id": "QtRzR83r4DXP"
      },
      "execution_count": null,
      "outputs": []
    },
    {
      "cell_type": "code",
      "source": [
        "normal_defense = df['Defense'].loc[df.Legendary==False].mean()\n",
        "legendary_defense = legendaries_df['Defense'].mean()\n",
        "\n",
        "round(legendary_defense / normal_defense - 1, 3)\n"
      ],
      "metadata": {
        "id": "7hzBfd3m4PwY"
      },
      "execution_count": null,
      "outputs": []
    },
    {
      "cell_type": "code",
      "source": [
        "legendaries_df['Type 1'].value_counts(dropna=True).plot(kind='pie')\n",
        "\n",
        "plt.title(\"Distribution of main type for normal Pokemons\")\n",
        "plt.show()\n"
      ],
      "metadata": {
        "id": "mXwxue6S4beF"
      },
      "execution_count": null,
      "outputs": []
    },
    {
      "cell_type": "code",
      "source": [
        "df.isnull().sum()\n"
      ],
      "metadata": {
        "id": "IwPbbgu04d4s"
      },
      "execution_count": null,
      "outputs": []
    },
    {
      "cell_type": "code",
      "source": [
        "df.loc[df.duplicated(), :]\n"
      ],
      "metadata": {
        "id": "xyxepaMc4gjX"
      },
      "execution_count": null,
      "outputs": []
    },
    {
      "cell_type": "code",
      "source": [
        "corr = df.corr(method=\"pearson\")\n",
        "corr\n"
      ],
      "metadata": {
        "id": "1p4JDr5CEQaU"
      },
      "execution_count": null,
      "outputs": []
    },
    {
      "cell_type": "code",
      "source": [
        "from sklearn.model_selection import train_test_split\n",
        "\n",
        "\n",
        "cols_to_use = [\"Type 1\", \"Type 2\", \"HP\", \"Attack\", \"Defense\", \"Sp. Atk\", \"Sp. Def\", \"Speed\"]\n",
        "\n",
        "X = df[cols_to_use]\n",
        "y = df[\"Legendary\"]\n",
        "\n",
        "X_train, X_test, y_train, y_test = train_test_split(X, y, test_size=0.2, random_state=1)\n"
      ],
      "metadata": {
        "id": "cK7y3PJMETNl"
      },
      "execution_count": null,
      "outputs": []
    },
    {
      "cell_type": "code",
      "source": [
        "from sklearn.preprocessing import LabelEncoder\n",
        "\n",
        "\n",
        "le_types = LabelEncoder()\n",
        "le_types.fit(X_train[\"Type 1\"].append(X_train[\"Type 2\"]))\n"
      ],
      "metadata": {
        "id": "gLVHPRDgETra"
      },
      "execution_count": null,
      "outputs": []
    },
    {
      "cell_type": "code",
      "source": [
        "from sklearn.preprocessing import StandardScaler\n",
        "\n",
        "\n",
        "std_scaler = StandardScaler()\n",
        "std_scaler.fit(X_train)\n",
        "\n",
        "X_train_std = std_scaler.transform(X_train)\n",
        "X_test_std = std_scaler.transform(X_test)\n"
      ],
      "metadata": {
        "id": "jAAPKAJWEYoE"
      },
      "execution_count": null,
      "outputs": []
    },
    {
      "cell_type": "code",
      "source": [
        "print(\"Train Score : \", bnb.score(X_train_std, y_train))\n",
        "print(\"Test Score : \", bnb.score(X_test_std, y_test))\n",
        "print(\"Accuracy : \",accuracy_score(y_test, y_pred))\n"
      ],
      "metadata": {
        "id": "-g2bOJPREfwm"
      },
      "execution_count": null,
      "outputs": []
    },
    {
      "cell_type": "code",
      "source": [
        "from sklearn.metrics import confusion_matrix\n",
        "import seaborn as sns\n",
        "\n",
        "\n",
        "cnf_matrix = confusion_matrix(y_test, y_pred)\n",
        "sns.heatmap(pd.DataFrame(cnf_matrix), annot=True, fmt = 'd')\n",
        "plt.xlabel(\"Predicted Values\")\n",
        "plt.ylabel(\"Actual Values\")\n"
      ],
      "metadata": {
        "id": "XwAQQA0vEiMo"
      },
      "execution_count": null,
      "outputs": []
    },
    {
      "cell_type": "code",
      "source": [
        "def pred_is_legendary(POKEMON_NUMBER, show_input=False):\n",
        "    pokemon_name = df.iloc[POKEMON_NUMBER, 1]\n",
        "\n",
        "    X_sample = list(X.iloc[POKEMON_NUMBER])\n",
        "\n",
        "    X_sample[0] = le_types.transform([X_sample[0]])[0]\n",
        "    X_sample[1] = le_types.transform([X_sample[1]])[0]\n",
        "\n",
        "    X_sample = std_scaler.transform([X_sample])\n",
        "\n",
        "    if (show_input):\n",
        "        print(f\"Input: {X_sample}\")\n",
        "\n",
        "    pred = tree_model.predict(X_sample)[0]\n",
        "\n",
        "    print(f\"{pokemon_name} #{POKEMON_NUMBER} {'IS' if pred else 'IS NOT'} legendary\")\n",
        "\n",
        "    return pred\n"
      ],
      "metadata": {
        "id": "sY3voc8cEta5"
      },
      "execution_count": null,
      "outputs": []
    }
  ]
}