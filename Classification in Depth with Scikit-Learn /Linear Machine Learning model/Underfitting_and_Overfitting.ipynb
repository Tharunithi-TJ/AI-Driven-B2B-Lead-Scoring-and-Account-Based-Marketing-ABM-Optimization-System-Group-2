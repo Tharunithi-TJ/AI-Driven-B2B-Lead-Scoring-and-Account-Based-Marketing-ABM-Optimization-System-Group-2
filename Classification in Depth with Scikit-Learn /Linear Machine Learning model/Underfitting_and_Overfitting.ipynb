{
  "nbformat": 4,
  "nbformat_minor": 0,
  "metadata": {
    "colab": {
      "provenance": []
    },
    "kernelspec": {
      "name": "python3",
      "display_name": "Python 3"
    },
    "language_info": {
      "name": "python"
    }
  },
  "cells": [
    {
      "cell_type": "code",
      "execution_count": 2,
      "metadata": {
        "id": "_Fk0y1fmoZlD"
      },
      "outputs": [],
      "source": [
        "import numpy as np\n",
        "import pandas as pd\n",
        "import matplotlib.pyplot as plt\n",
        "import seaborn as sns\n",
        "from sklearn.datasets import make_blobs\n",
        "from mlxtend.plotting import plot_decision_regions"
      ]
    },
    {
      "cell_type": "code",
      "source": [
        "iris = pd.read_csv('iris.csv')\n",
        "iris.head()"
      ],
      "metadata": {
        "id": "4xo5O-cq3QAF"
      },
      "execution_count": 3,
      "outputs": []
    },
    {
      "cell_type": "code",
      "source": [
        "iris.isnull().sum()\n"
      ],
      "metadata": {
        "collapsed": true,
        "id": "WUjGCXDe37Ex"
      },
      "execution_count": null,
      "outputs": []
    },
    {
      "cell_type": "code",
      "source": [
        "p=sns.pairplot(data=iris, hue='species')\n",
        "plt.show()\n"
      ],
      "metadata": {
        "id": "FUr38ByC391w"
      },
      "execution_count": 5,
      "outputs": []
    },
    {
      "cell_type": "code",
      "source": [
        "iris[iris.species=='virginica'].mean()"
      ],
      "metadata": {
        "id": "QtRzR83r4DXP"
      },
      "execution_count": null,
      "outputs": []
    },
    {
      "cell_type": "code",
      "source": [
        "iris.corr()"
      ],
      "metadata": {
        "id": "7hzBfd3m4PwY"
      },
      "execution_count": null,
      "outputs": []
    },
    {
      "cell_type": "code",
      "source": [
        "import numpy as np\n",
        "import seaborn as sns\n",
        "import matplotlib.pyplot as plt\n",
        "from sklearn.model_selection import train_test_split\n",
        "from sklearn.tree import DecisionTreeClassifier\n",
        "from sklearn.metrics import accuracy_score\n",
        "\n",
        "# Load your dataset\n",
        "iris = pd.read_csv('iris.csv')\n",
        "\n",
        "X=iris.drop(columns='species')\n",
        "y=iris.species\n",
        "\n",
        "# Split the data into training and validation sets\n",
        "X_train, X_val, y_train, y_val = train_test_split(X, y, test_size=0.3,random_state=0)\n",
        "\n",
        "# Define a list of hyperparameter values to evaluate\n",
        "max_depths = range(1, 20)\n",
        "\n",
        "# Create an empty list to store the accuracy scores\n",
        "accuracy_scores_train = []\n",
        "accuracy_scores_test = []\n",
        "\n",
        "# Loop over the hyperparameter values\n",
        "for max_depth in max_depths:\n",
        "    # Train a decision tree with the current hyperparameter value\n",
        "    model = DecisionTreeClassifier(max_depth=max_depth)\n",
        "    model.fit(X_train, y_train)\n",
        "\n",
        "\n",
        "    # Evaluate the model on the training set\n",
        "    y_pred = model.predict(X_train)\n",
        "    accuracy_train = accuracy_score(y_train, y_pred)\n",
        "\n",
        "    # Evaluate the model on the validation set\n",
        "    y_pred = model.predict(X_val)\n",
        "    accuracy_test = accuracy_score(y_val, y_pred)\n",
        "\n",
        "    # Add the accuracy score to the list\n",
        "    accuracy_scores_test.append(accuracy_test)\n",
        "    accuracy_scores_train.append(accuracy_train)\n",
        "\n",
        "# Plot the validation curve\n",
        "plt.plot(max_depths, accuracy_scores_test, label='Test')\n",
        "plt.plot(max_depths, accuracy_scores_train, label='Train')\n",
        "plt.xlabel(\"Maximum Depth\")\n",
        "plt.ylabel(\"Accuracy\")\n",
        "plt.legend()\n",
        "plt.title(\"Validation Curve for Decision Tree\")\n",
        "plt.show()\n"
      ],
      "metadata": {
        "id": "mXwxue6S4beF"
      },
      "execution_count": null,
      "outputs": []
    },
    {
      "cell_type": "code",
      "source": [
        "best_score = 0 # Initialize the best score to 0\n",
        "best_depth = 0 # Initialize the best depth to 0\n",
        "for max_depth in max_depths:\n",
        "    model = DecisionTreeClassifier(max_depth=max_depth) # Train a model with the current hyperparameter value\n",
        "    model.fit(X_train, y_train)\n",
        "    y_pred = model.predict(X_val)\n",
        "    score = accuracy_score(y_val, y_pred) # Example: use accuracy as the performance metric\n",
        "    if score > best_score: # Update the best score and depth if the current score is better\n",
        "        best_score = score\n",
        "        best_depth = max_depth\n"
      ],
      "metadata": {
        "id": "IwPbbgu04d4s"
      },
      "execution_count": null,
      "outputs": []
    },
    {
      "cell_type": "code",
      "source": [
        "from sklearn.linear_model import LogisticRegression\n",
        "from sklearn.datasets import make_classification\n",
        "from mlxtend.plotting import plot_decision_regions\n",
        "\n",
        "X, y = make_classification(n_features=2, n_redundant=0, n_informative=2,\n",
        "                           n_clusters_per_class=2, random_state=0)\n",
        "\n",
        "# C = 1\n",
        "clf1 = LogisticRegression(C=100, random_state=0)\n",
        "clf1.fit(X, y)\n",
        "\n",
        "# C = 0.1\n",
        "clf2 = LogisticRegression(C=1, random_state=0)\n",
        "clf2.fit(X, y)\n",
        "\n",
        "# C = 0.01\n",
        "clf3 = LogisticRegression(C=0.01, random_state=0)\n",
        "clf3.fit(X, y)\n",
        "\n",
        "\n",
        "fig,(ax1,ax2,ax3)=plt.subplots(1,3,figsize=(10,5))\n",
        "# Plotting decision regions\n",
        "plot_decision_regions(X ,y, clf=clf1, legend=2,ax=ax1)\n",
        "plot_decision_regions(X ,y, clf=clf2, legend=2,ax=ax2)\n",
        "plot_decision_regions(X ,y, clf=clf3, legend=2,ax=ax3)\n",
        "# Adding axes annotations\n",
        "ax1.set_title('C=10')\n",
        "ax2.set_title('C=1')\n",
        "ax3.set_title('C=0.1')\n",
        "plt.show()\n"
      ],
      "metadata": {
        "id": "xyxepaMc4gjX"
      },
      "execution_count": null,
      "outputs": []
    }
  ]
}