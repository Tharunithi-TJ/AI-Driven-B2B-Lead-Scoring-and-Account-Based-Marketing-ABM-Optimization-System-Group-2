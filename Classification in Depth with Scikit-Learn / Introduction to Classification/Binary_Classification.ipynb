{
  "nbformat": 4,
  "nbformat_minor": 0,
  "metadata": {
    "colab": {
      "provenance": []
    },
    "kernelspec": {
      "name": "python3",
      "display_name": "Python 3"
    },
    "language_info": {
      "name": "python"
    }
  },
  "cells": [
    {
      "cell_type": "code",
      "execution_count": 1,
      "metadata": {
        "id": "_Fk0y1fmoZlD"
      },
      "outputs": [],
      "source": [
        "import numpy as np\n",
        "import pandas as pd\n",
        "import matplotlib.pyplot as plt\n",
        "import seaborn as sns"
      ]
    },
    {
      "cell_type": "code",
      "source": [
        "df = pd.read_csv(\"healthcare-dataset-stroke-data.csv\")\n"
      ],
      "metadata": {
        "id": "4xo5O-cq3QAF"
      },
      "execution_count": null,
      "outputs": []
    },
    {
      "cell_type": "code",
      "source": [
        "percent_missing = round(df.isnull().sum() * 100 / len(df),3)\n",
        "missing_value_df = pd.DataFrame({'Missing_Percentage': percent_missing})\n",
        "missing_value_df.sort_values(by=\"Missing_Percentage\",ascending=False).head(5)\n"
      ],
      "metadata": {
        "id": "WUjGCXDe37Ex"
      },
      "execution_count": null,
      "outputs": []
    },
    {
      "cell_type": "code",
      "source": [
        "df.drop([\"id\"], axis=1, inplace=True)\n"
      ],
      "metadata": {
        "id": "FUr38ByC391w"
      },
      "execution_count": null,
      "outputs": []
    },
    {
      "cell_type": "code",
      "source": [
        "cat_variables = [\"gender\",\"hypertension\",\"heart_disease\",\"ever_married\",\"work_type\",\"Residence_type\",\"smoking_status\"]\n",
        "for i in cat_variables:\n",
        "    fig_dims = (10, 4)\n",
        "    fig, ax = plt.subplots(figsize=fig_dims)\n",
        "    sns.countplot(x=i, hue=\"stroke\", ax=ax, data=df,palette=\"RdBu\",order=df[i].value_counts().index)\n",
        "    plt.xticks(rotation=90)\n",
        "    plt.legend(loc='upper right')\n",
        "    plt.show()\n"
      ],
      "metadata": {
        "id": "QtRzR83r4DXP"
      },
      "execution_count": null,
      "outputs": []
    },
    {
      "cell_type": "code",
      "source": [
        "corr = df.corr()\n",
        "corr.style.background_gradient(cmap='coolwarm').set_precision(2)"
      ],
      "metadata": {
        "id": "7hzBfd3m4PwY"
      },
      "execution_count": null,
      "outputs": []
    },
    {
      "cell_type": "code",
      "source": [
        "sns.set_palette(\"RdBu\")\n",
        "sns.countplot(data=df, x='stroke');\n",
        "print(df.stroke.value_counts())"
      ],
      "metadata": {
        "id": "mXwxue6S4beF"
      },
      "execution_count": null,
      "outputs": []
    },
    {
      "cell_type": "code",
      "source": [
        "non_stroke=df.loc[df.stroke==0].sample(df.loc[df.stroke==1].shape[0],random_state=1)\n",
        "stroke=df.loc[df.stroke==1]\n",
        "frames = [stroke,non_stroke]\n",
        "result = pd.concat(frames)\n",
        "result.sample(frac=1,random_state=1)\n",
        "result.head()"
      ],
      "metadata": {
        "id": "IwPbbgu04d4s"
      },
      "execution_count": null,
      "outputs": []
    },
    {
      "cell_type": "code",
      "source": [
        "variables=[\"stroke\",\"gender\",\"hypertension\",\"heart_disease\",'ever_married','work_type','Residence_type','smoking_status']\n",
        "X=result.drop(columns =variables)\n",
        "y=result.stroke"
      ],
      "metadata": {
        "id": "xyxepaMc4gjX"
      },
      "execution_count": null,
      "outputs": []
    },
    {
      "cell_type": "code",
      "source": [
        "from sklearn.model_selection import train_test_split\n",
        "variables=[\"stroke\",\"gender\",\"hypertension\",\"heart_disease\",'ever_married','work_type','Residence_type','smoking_status']\n",
        "X=result.drop(columns =variables)\n",
        "y=result.stroke\n",
        "\n",
        "# Split data into training and testing sets\n",
        "X_train, X_test, y_train, y_test = train_test_split(X, y, test_size=0.2, random_state=0)\n"
      ],
      "metadata": {
        "id": "bIsZ5Pjs4nxM"
      },
      "execution_count": null,
      "outputs": []
    },
    {
      "cell_type": "code",
      "source": [
        "from sklearn.tree import DecisionTreeClassifier\n",
        "from sklearn.metrics import accuracy_score\n",
        "\n",
        "# Train the decision tree model with a maximum depth 3\n",
        "dt = DecisionTreeClassifier(max_depth=3, random_state=42)\n",
        "dt.fit(X_train, y_train)\n",
        "\n",
        "# Make predictions on the data\n",
        "y_pred_train = dt.predict(X_train)\n",
        "y_pred_test= dt.predict(X_test)\n",
        "# Calculate the accuracy of the model\n",
        "train_accuracy = accuracy_score(y_train, y_pred_train)\n",
        "test_accuracy = accuracy_score(y_test, y_pred_test)\n",
        "print('accuracy train', train_accuracy)\n",
        "print('accuracy test', test_accuracy)\n"
      ],
      "metadata": {
        "id": "vY1M9Sj84rDc"
      },
      "execution_count": null,
      "outputs": []
    },
    {
      "cell_type": "code",
      "source": [
        "from sklearn.neighbors import KNeighborsClassifier\n",
        "from sklearn.preprocessing import StandardScaler\n",
        "# Create a KNN classifier with different values of k\n",
        "scaler = StandardScaler()\n",
        "scaler=scaler.fit(X_train)\n",
        "# standardization\n",
        "X_train_scaler = scaler.transform(X_train)\n",
        "X_test_scaler = scaler.transform(X_test)\n",
        "\n",
        "knn = KNeighborsClassifier(n_neighbors=3)\n",
        "knn.fit(X_train_scaler, y_train)\n",
        "# Make predictions on the data\n",
        "y_pred_train = knn.predict(X_train_scaler)\n",
        "y_pred_test= knn.predict(X_test_scaler)\n",
        "# Calculate the accuracy of the model\n",
        "train_accuracy = accuracy_score(y_train, y_pred_train)\n",
        "test_accuracy = accuracy_score(y_test, y_pred_test)\n",
        "print('accuracy train', train_accuracy)\n",
        "print('accuracy test', test_accuracy)\n"
      ],
      "metadata": {
        "id": "D-j8lXp14t3k"
      },
      "execution_count": null,
      "outputs": []
    }
  ]
}