{
  "nbformat": 4,
  "nbformat_minor": 0,
  "metadata": {
    "colab": {
      "provenance": []
    },
    "kernelspec": {
      "name": "python3",
      "display_name": "Python 3"
    },
    "language_info": {
      "name": "python"
    }
  },
  "cells": [
    {
      "cell_type": "code",
      "execution_count": null,
      "metadata": {
        "id": "_Fk0y1fmoZlD"
      },
      "outputs": [],
      "source": [
        "import numpy as np # linear algebra\n",
        "import pandas as pd # data processing, CSV file I/O (e.g. pd.read_csv)\n",
        "import matplotlib.pyplot as plt\n",
        "import seaborn as sns"
      ]
    },
    {
      "cell_type": "code",
      "source": [
        "df = pd.read_csv('train_ghosts.csv')"
      ],
      "metadata": {
        "id": "4xo5O-cq3QAF"
      },
      "execution_count": null,
      "outputs": []
    },
    {
      "cell_type": "code",
      "source": [
        "# Display the first few rows of the dataset\n",
        "print(\"Dataset Overview:\")\n",
        "print(data.head())\n",
        "\n",
        "# Display dataset information\n",
        "print(\"\\nDataset Info:\")\n",
        "print(data.info())\n",
        "\n",
        "# Step 3: Exploratory Data Analysis (EDA)\n",
        "# Check for missing values\n",
        "print(\"\\nMissing Values:\\n\", data.isnull().sum())\n",
        "\n",
        "# Check basic statistics of numerical features\n",
        "print(\"\\nBasic Statistics:\\n\", data.describe())"
      ],
      "metadata": {
        "collapsed": true,
        "id": "WUjGCXDe37Ex"
      },
      "execution_count": null,
      "outputs": []
    },
    {
      "cell_type": "code",
      "source": [
        "sns.set()\n",
        "sns.pairplot(df[[\"bone_length\", \"rotting_flesh\", \"hair_length\", \"has_soul\", \"type\"]], hue=\"type\")"
      ],
      "metadata": {
        "id": "FUr38ByC391w"
      },
      "execution_count": null,
      "outputs": []
    },
    {
      "cell_type": "code",
      "source": [
        "df[[\"bone_length\", \"rotting_flesh\", \"hair_length\", \"has_soul\", \"type\"]].corr()"
      ],
      "metadata": {
        "id": "QtRzR83r4DXP"
      },
      "execution_count": null,
      "outputs": []
    },
    {
      "cell_type": "code",
      "source": [
        "# Splitting target variable and independent variables\n",
        "#using pd.get_dummies for one hot encoding the categorical data\n",
        "X = pd.get_dummies(df.drop(['type','id'], axis = 1))\n",
        "y = df['type']"
      ],
      "metadata": {
        "id": "7hzBfd3m4PwY"
      },
      "execution_count": null,
      "outputs": []
    },
    {
      "cell_type": "code",
      "source": [
        "# Splitting the dataset into the Training set and Test set\n",
        "from sklearn.model_selection import train_test_split\n",
        "\n",
        "random_state=0\n",
        "# Split data into training and testing sets\n",
        "X_train, X_test, y_train, y_test = train_test_split(X, y, test_size=0.2, random_state = random_state)\n"
      ],
      "metadata": {
        "id": "mXwxue6S4beF"
      },
      "execution_count": null,
      "outputs": []
    },
    {
      "cell_type": "code",
      "source": [
        "from sklearn.ensemble import RandomForestClassifier\n",
        "from sklearn.model_selection import GridSearchCV\n",
        "import numpy as np\n",
        "\n",
        "# Create a Random Forest classifier\n",
        "rf = RandomForestClassifier(random_state=42)\n",
        "\n",
        "# Define the parameter grid to search over\n",
        "param_grid = {'max_depth': range(1, 21)}\n",
        "\n",
        "# Create a GridSearchCV object with 5-fold cross-validation\n",
        "grid_search = GridSearchCV(rf, param_grid, cv=5)\n",
        "\n",
        "# Fit the GridSearchCV object to the data\n",
        "grid_search.fit(X_train, y_train)"
      ],
      "metadata": {
        "id": "IwPbbgu04d4s"
      },
      "execution_count": null,
      "outputs": []
    },
    {
      "cell_type": "code",
      "source": [
        "# Print the best hyperparameters and the corresponding mean score\n",
        "print(f\"Best hyperparameters: {grid_search.best_params_}\")\n",
        "print(f\"Best mean score: {grid_search.best_score_}\")\n"
      ],
      "metadata": {
        "id": "xyxepaMc4gjX"
      },
      "execution_count": null,
      "outputs": []
    },
    {
      "cell_type": "code",
      "source": [
        "from sklearn.ensemble import RandomForestClassifier\n",
        "from sklearn.model_selection import RandomizedSearchCV\n",
        "import numpy as np\n",
        "\n",
        "# Create a Random Forest classifier\n",
        "rf = RandomForestClassifier(random_state=42)\n",
        "\n",
        "# Define the parameter grid to search over\n",
        "param_grid = {'max_depth': range(1, 21)}\n",
        "\n",
        "# Create a GridSearchCV object with 5-fold cross-validation\n",
        "random_search = RandomizedSearchCV(rf, param_grid, cv=5)\n",
        "\n",
        "# Fit the GridSearchCV object to the data\n",
        "random_search.fit(X_train, y_train)"
      ],
      "metadata": {
        "id": "1p4JDr5CEQaU"
      },
      "execution_count": null,
      "outputs": []
    },
    {
      "cell_type": "code",
      "source": [
        "# Print the best hyperparameters and the corresponding mean score\n",
        "print(f\"Best hyperparameters: {random_search.best_params_}\")\n",
        "print(f\"Best mean score: {random_search.best_score_}\")\n"
      ],
      "metadata": {
        "id": "HZU8r9dJNHD5"
      },
      "execution_count": null,
      "outputs": []
    }
  ]
}