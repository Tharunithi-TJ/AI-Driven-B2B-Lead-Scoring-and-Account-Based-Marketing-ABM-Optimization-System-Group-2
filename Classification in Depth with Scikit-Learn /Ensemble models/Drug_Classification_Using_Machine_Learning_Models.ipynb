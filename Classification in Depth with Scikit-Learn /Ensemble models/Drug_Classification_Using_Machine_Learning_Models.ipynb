{
  "nbformat": 4,
  "nbformat_minor": 0,
  "metadata": {
    "colab": {
      "provenance": []
    },
    "kernelspec": {
      "name": "python3",
      "display_name": "Python 3"
    },
    "language_info": {
      "name": "python"
    }
  },
  "cells": [
    {
      "cell_type": "code",
      "execution_count": null,
      "metadata": {
        "id": "_Fk0y1fmoZlD"
      },
      "outputs": [],
      "source": [
        "import pandas as pd\n",
        "import numpy as np\n",
        "import matplotlib.pyplot as plt\n",
        "import seaborn as sns\n",
        "from sklearn.model_selection import train_test_split\n",
        "from sklearn.preprocessing import StandardScaler, LabelEncoder\n",
        "from sklearn.ensemble import RandomForestClassifier\n",
        "from sklearn.metrics import classification_report, confusion_matrix, accuracy_score"
      ]
    },
    {
      "cell_type": "code",
      "source": [
        "data_path = \"drugs_train.csv\"\n",
        "data = pd.read_csv(data_path)"
      ],
      "metadata": {
        "id": "4xo5O-cq3QAF"
      },
      "execution_count": null,
      "outputs": []
    },
    {
      "cell_type": "code",
      "source": [
        "# Display basic information about the dataset\n",
        "print(\"Dataset Overview:\")\n",
        "print(data.head())\n",
        "print(\"\\nDataset Info:\")\n",
        "print(data.info())"
      ],
      "metadata": {
        "collapsed": true,
        "id": "WUjGCXDe37Ex"
      },
      "execution_count": null,
      "outputs": []
    },
    {
      "cell_type": "code",
      "source": [
        "# Step 2: Exploratory Data Analysis (EDA)\n",
        "# Check for missing values\n",
        "print(\"\\nMissing Values:\\n\", data.isnull().sum())\n",
        "\n",
        "# Check basic statistics of numerical features\n",
        "print(\"\\nBasic Statistics:\")\n",
        "print(data.describe())"
      ],
      "metadata": {
        "id": "FUr38ByC391w"
      },
      "execution_count": null,
      "outputs": []
    },
    {
      "cell_type": "code",
      "source": [
        "# Visualize the distribution of the target variable\n",
        "target_column = \"Drug\"  # Replace with the actual target column name\n",
        "sns.countplot(x=target_column, data=data)\n",
        "plt.title(\"Target Variable Distribution\")\n",
        "plt.show()\n",
        "\n",
        "# Visualize correlations (if numerical features are present)\n",
        "if len(data.select_dtypes(include='number').columns) > 1:\n",
        "    plt.figure(figsize=(10, 6))\n",
        "    sns.heatmap(data.corr(), annot=True, cmap='coolwarm')\n",
        "    plt.title(\"Correlation Matrix\")\n",
        "    plt.show()"
      ],
      "metadata": {
        "id": "QtRzR83r4DXP"
      },
      "execution_count": null,
      "outputs": []
    },
    {
      "cell_type": "code",
      "source": [
        "# Step 3: Preprocessing\n",
        "# Check categorical features\n",
        "categorical_features = data.select_dtypes(include='object').columns\n",
        "print(\"\\nCategorical Features:\", categorical_features)\n",
        "\n",
        "# Encode categorical features (if necessary)\n",
        "from sklearn.preprocessing import LabelEncoder\n",
        "\n",
        "label_encoders = {}\n",
        "for col in categorical_features:\n",
        "    if col != target_column:  # Avoid encoding the target column directly here\n",
        "        label_encoders[col] = LabelEncoder()\n",
        "        data[col] = label_encoders[col].fit_transform(data[col])"
      ],
      "metadata": {
        "id": "7hzBfd3m4PwY"
      },
      "execution_count": null,
      "outputs": []
    },
    {
      "cell_type": "code",
      "source": [
        "# Encode the target column\n",
        "target_encoder = LabelEncoder()\n",
        "data[target_column] = target_encoder.fit_transform(data[target_column])\n",
        "\n",
        "# Step 4: Split Data into Train and Test Sets\n",
        "X = data.drop(columns=[target_column])\n",
        "y = data[target_column]\n",
        "\n",
        "X_train, X_test, y_train, y_test = train_test_split(X, y, test_size=0.2, random_state=42)"
      ],
      "metadata": {
        "id": "mXwxue6S4beF"
      },
      "execution_count": null,
      "outputs": []
    },
    {
      "cell_type": "code",
      "source": [
        "# Step 5: Train a Classification Model\n",
        "# Using Random Forest as an example\n",
        "clf = RandomForestClassifier(random_state=42, n_estimators=100)\n",
        "clf.fit(X_train, y_train)\n",
        "\n",
        "# Step 6: Evaluate the Model\n",
        "y_pred = clf.predict(X_test)"
      ],
      "metadata": {
        "id": "IwPbbgu04d4s"
      },
      "execution_count": null,
      "outputs": []
    },
    {
      "cell_type": "code",
      "source": [
        "print(\"\\nConfusion Matrix:\\n\", confusion_matrix(y_test, y_pred))\n",
        "print(\"\\nClassification Report:\\n\", classification_report(y_test, y_pred))\n",
        "print(\"\\nAccuracy Score:\", accuracy_score(y_test, y_pred))"
      ],
      "metadata": {
        "id": "xyxepaMc4gjX"
      },
      "execution_count": null,
      "outputs": []
    },
    {
      "cell_type": "code",
      "source": [
        "# Step 7: Visualize Feature Importance\n",
        "feature_importances = clf.feature_importances_\n",
        "feature_names = X.columns\n",
        "importance_df = pd.DataFrame({'Feature': feature_names, 'Importance': feature_importances})\n",
        "importance_df = importance_df.sort_values(by='Importance', ascending=False)\n",
        "\n",
        "plt.figure(figsize=(10, 6))\n",
        "sns.barplot(x='Importance', y='Feature', data=importance_df)\n",
        "plt.title(\"Feature Importance\")\n",
        "plt.show()"
      ],
      "metadata": {
        "id": "1p4JDr5CEQaU"
      },
      "execution_count": null,
      "outputs": []
    }
  ]
}