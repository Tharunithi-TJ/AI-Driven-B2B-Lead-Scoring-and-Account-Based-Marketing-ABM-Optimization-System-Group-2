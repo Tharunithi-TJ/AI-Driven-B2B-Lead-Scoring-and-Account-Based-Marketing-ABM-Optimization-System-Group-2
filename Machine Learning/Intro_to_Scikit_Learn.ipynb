{
  "nbformat": 4,
  "nbformat_minor": 0,
  "metadata": {
    "colab": {
      "provenance": []
    },
    "kernelspec": {
      "name": "python3",
      "display_name": "Python 3"
    },
    "language_info": {
      "name": "python"
    }
  },
  "cells": [
    {
      "cell_type": "code",
      "execution_count": 7,
      "metadata": {
        "id": "6vL-Nl86Ek93"
      },
      "outputs": [],
      "source": [
        "import numpy as np\n",
        "import matplotlib.pyplot as plt"
      ]
    },
    {
      "cell_type": "code",
      "source": [
        "from sklearn.linear_model import LinearRegression\n",
        "# Generate synthetic data for the linear regression example\n",
        "np.random.seed(42)\n",
        "X = 2 * np.random.rand(100, 1)\n",
        "y = 4 + 3 * X + np.random.randn(100, 1)\n",
        "\n",
        "# Create an instance of the linear regression model\n",
        "regression_model = LinearRegression()"
      ],
      "metadata": {
        "id": "4oeojTdmEwGh"
      },
      "execution_count": 8,
      "outputs": []
    },
    {
      "cell_type": "code",
      "source": [
        "import numpy as np\n",
        "from sklearn.datasets import make_classification\n",
        "from sklearn.linear_model import LogisticRegression\n",
        "\n",
        "# Generate synthetic data for the binary classification example\n",
        "np.random.seed(42)\n",
        "X, y = make_classification(n_samples=100, n_features=2, n_informative=2, n_redundant=0, random_state=42)\n",
        "\n",
        "# Create an instance of the logistic regression model\n",
        "classification_model = LogisticRegression()"
      ],
      "metadata": {
        "id": "MXgHYO56E_is"
      },
      "execution_count": 9,
      "outputs": []
    },
    {
      "cell_type": "markdown",
      "source": [
        "**Quiz and their answers:**\n",
        "\n",
        "1.True or False: In Scikit-Learn, each machine learning model is implemented as a class, ensuring consistent interfaces and making it easy to work with different models using similar methods and attributes.\n",
        "\n",
        "\n",
        "True\n",
        "\n",
        "\n"
      ],
      "metadata": {
        "id": "sxZtzxsVGRc0"
      }
    },
    {
      "cell_type": "markdown",
      "source": [
        "2.True or False: To use a specific machine learning model in Scikit-Learn, you need to create an instance of its corresponding class using the model's constructor, which initializes the model with default or user-specified settings.\n",
        "\n",
        "\n",
        "True"
      ],
      "metadata": {
        "id": "M3kFBmASGteJ"
      }
    }
  ]
}