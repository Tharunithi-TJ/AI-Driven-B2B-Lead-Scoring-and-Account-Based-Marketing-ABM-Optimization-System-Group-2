{
  "nbformat": 4,
  "nbformat_minor": 0,
  "metadata": {
    "colab": {
      "provenance": []
    },
    "kernelspec": {
      "name": "python3",
      "display_name": "Python 3"
    },
    "language_info": {
      "name": "python"
    }
  },
  "cells": [
    {
      "cell_type": "markdown",
      "source": [
        "Project: Decision tree\n",
        "\n"
      ],
      "metadata": {
        "id": "eGDhm6eWExNJ"
      }
    },
    {
      "cell_type": "code",
      "execution_count": 29,
      "metadata": {
        "id": "6vL-Nl86Ek93"
      },
      "outputs": [],
      "source": [
        "import pandas as pd\n",
        "import numpy as np\n",
        "import matplotlib.pyplot as plt\n",
        "import seaborn as sns\n",
        "from sklearn.datasets import make_blobs"
      ]
    },
    {
      "cell_type": "code",
      "source": [
        "# calculate the Gini index\n",
        "gini_i= 1 - (6/10)**2- (4/10)**2 #=0.48\n",
        "\n",
        "print(\"Gini Index:\", gini_i)\n"
      ],
      "metadata": {
        "colab": {
          "base_uri": "https://localhost:8080/"
        },
        "id": "4oeojTdmEwGh",
        "outputId": "6de5d57a-e9ac-44ca-96de-0b38c1f96c6b"
      },
      "execution_count": 30,
      "outputs": [
        {
          "output_type": "stream",
          "name": "stdout",
          "text": [
            "Gini Index: 0.48\n"
          ]
        }
      ]
    },
    {
      "cell_type": "code",
      "source": [
        "# calculate the Gini index\n",
        "gini_fur= 1 - (5/7)**2- (2/7)**2 #=0.408\n",
        "gini_nofur= 1 - (1/3)**2- (2/3)**2 #=0.444\n",
        "print(\"Gini Index fur:\", gini_fur)\n",
        "print(\"Gini Index nofur:\", gini_nofur)\n"
      ],
      "metadata": {
        "colab": {
          "base_uri": "https://localhost:8080/"
        },
        "id": "MXgHYO56E_is",
        "outputId": "35015741-457b-470a-97b9-8f2c9dc79e02"
      },
      "execution_count": 31,
      "outputs": [
        {
          "output_type": "stream",
          "name": "stdout",
          "text": [
            "Gini Index fur: 0.40816326530612246\n",
            "Gini Index nofur: 0.4444444444444444\n"
          ]
        }
      ]
    },
    {
      "cell_type": "code",
      "source": [
        "# calculate the Gini index\n",
        "Gini_w= 7/10*gini_fur+3/10*gini_nofur #=0.4196\n",
        "print(\"Gini Index weighted:\", Gini_w)\n",
        "print(\"Gini Index nofur:\", gini_nofur)\n"
      ],
      "metadata": {
        "colab": {
          "base_uri": "https://localhost:8080/"
        },
        "id": "5cq7ErS3IF9N",
        "outputId": "85837d08-dfd4-4288-ffc2-132d6a9e1629"
      },
      "execution_count": 32,
      "outputs": [
        {
          "output_type": "stream",
          "name": "stdout",
          "text": [
            "Gini Index weighted: 0.419047619047619\n",
            "Gini Index nofur: 0.4444444444444444\n"
          ]
        }
      ]
    },
    {
      "cell_type": "markdown",
      "source": [
        "Activity\n",
        "\n",
        "Suppose we have a dataset of 12 fruits, each described by its color and whether it is sweet or sour."
      ],
      "metadata": {
        "id": "P0gXyKCCL-DG"
      }
    },
    {
      "cell_type": "code",
      "source": [
        "# calculate the Gini index\n",
        "gini_i= 1 - (3/12)**2- (4/12)**2 - (5/12)**2 #=0.653\n",
        "\n",
        "print(\"Gini Index:\", gini_i)\n"
      ],
      "metadata": {
        "colab": {
          "base_uri": "https://localhost:8080/"
        },
        "id": "v5A94HfZFBw6",
        "outputId": "b4136005-586d-4516-d4d7-7fe11a644502"
      },
      "execution_count": 33,
      "outputs": [
        {
          "output_type": "stream",
          "name": "stdout",
          "text": [
            "Gini Index: 0.6527777777777777\n"
          ]
        }
      ]
    }
  ]
}