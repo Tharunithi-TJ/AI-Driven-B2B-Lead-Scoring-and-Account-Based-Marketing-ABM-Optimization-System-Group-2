{
  "nbformat": 4,
  "nbformat_minor": 0,
  "metadata": {
    "colab": {
      "provenance": []
    },
    "kernelspec": {
      "name": "python3",
      "display_name": "Python 3"
    },
    "language_info": {
      "name": "python"
    }
  },
  "cells": [
    {
      "cell_type": "code",
      "execution_count": 63,
      "metadata": {
        "id": "6vL-Nl86Ek93"
      },
      "outputs": [],
      "source": [
        "import pandas as pd\n",
        "import numpy as np"
      ]
    },
    {
      "cell_type": "code",
      "source": [
        "# Import necessary libraries\n",
        "from sklearn.datasets import make_classification\n",
        "from sklearn.feature_selection import VarianceThreshold\n",
        "\n",
        "# Generate a simulated classification dataset\n",
        "X, y = make_classification(n_samples=1000, n_features=10, random_state=42)\n",
        "\n",
        "# Create a VarianceThreshold object\n",
        "var_threshold = VarianceThreshold(threshold=0)\n",
        "\n",
        "# Fit the VarianceThreshold object to the data\n",
        "var_threshold.fit(X)\n",
        "\n",
        "# Get the mask of selected features\n",
        "selected_features = var_threshold.get_support()\n",
        "\n",
        "# Get the selected feature indices\n",
        "selected_feature_indices = [i for i in range(len(selected_features)) if selected_features[i]]\n",
        "\n",
        "# Print the selected feature indices\n",
        "print(\"Selected Feature Indices:\", selected_feature_indices)\n"
      ],
      "metadata": {
        "colab": {
          "base_uri": "https://localhost:8080/"
        },
        "id": "Q68PgK8yVgEH",
        "outputId": "21c0474a-4156-4a00-e5b7-2376abc44ff9"
      },
      "execution_count": 64,
      "outputs": [
        {
          "output_type": "stream",
          "name": "stdout",
          "text": [
            "Selected Feature Indices: [0, 1, 2, 3, 4, 5, 6, 7, 8, 9]\n"
          ]
        }
      ]
    },
    {
      "cell_type": "markdown",
      "source": [
        "Quiz and answers:\n",
        "\n",
        "1.True or False: Feature selection is the process of randomly choosing any subset of features from the dataset.\n",
        "\n",
        "\n",
        "False"
      ],
      "metadata": {
        "id": "pF_lVUR1i9w8"
      }
    },
    {
      "cell_type": "markdown",
      "source": [
        "2.True or False: Dimensionality reduction is a technique used in feature engineering to increase the number of features in the dataset.\n",
        "\n",
        "False"
      ],
      "metadata": {
        "id": "YgQFeCg2jFpG"
      }
    },
    {
      "cell_type": "markdown",
      "source": [
        "3.True or False: Feature engineering involves creating new features by combining or transforming existing ones to enhance the model's performance.\n",
        "\n",
        "True"
      ],
      "metadata": {
        "id": "o_gqQQgxjMnK"
      }
    },
    {
      "cell_type": "markdown",
      "source": [
        "4.True or False: Features that exhibit high discriminative power are typically highly correlated with each other.\n",
        "\n",
        "\n",
        "False"
      ],
      "metadata": {
        "id": "ooMJ7UqRjQlb"
      }
    }
  ]
}