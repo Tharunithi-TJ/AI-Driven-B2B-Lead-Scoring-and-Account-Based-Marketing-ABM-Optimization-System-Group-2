{
  "nbformat": 4,
  "nbformat_minor": 0,
  "metadata": {
    "colab": {
      "provenance": []
    },
    "kernelspec": {
      "name": "python3",
      "display_name": "Python 3"
    },
    "language_info": {
      "name": "python"
    }
  },
  "cells": [
    {
      "cell_type": "code",
      "execution_count": 44,
      "metadata": {
        "id": "6vL-Nl86Ek93"
      },
      "outputs": [],
      "source": [
        "import numpy as np\n",
        "from sklearn.linear_model import LinearRegression\n",
        "import matplotlib.pyplot as plt\n",
        "import seaborn as sns\n",
        "import pandas as pd"
      ]
    },
    {
      "cell_type": "code",
      "source": [
        "df= pd.read_csv('dataset.csv')\n",
        "df.head()"
      ],
      "metadata": {
        "id": "Q68PgK8yVgEH"
      },
      "execution_count": 45,
      "outputs": []
    },
    {
      "cell_type": "code",
      "source": [
        "from sklearn import preprocessing\n",
        "le = preprocessing.LabelEncoder()\n",
        "df.diagnosis = le.fit_transform(df['diagnosis'])"
      ],
      "metadata": {
        "id": "c4axtKqFf4g6"
      },
      "execution_count": null,
      "outputs": []
    },
    {
      "cell_type": "code",
      "source": [
        "X = df.drop(['Unnamed: 32','id','diagnosis'],axis=1)\n",
        "y = df['diagnosis']\n"
      ],
      "metadata": {
        "id": "CunzKGcof-oW"
      },
      "execution_count": null,
      "outputs": []
    },
    {
      "cell_type": "code",
      "source": [
        "from sklearn.model_selection import train_test_split\n",
        "X_train, X_test, y_train, y_test = train_test_split(X, y, random_state=0, test_size=0.2)\n",
        "print(X_train.shape, X_test.shape, y_train.shape, y_test.shape)\n"
      ],
      "metadata": {
        "id": "u27jGn6hR6KY"
      },
      "execution_count": 48,
      "outputs": []
    },
    {
      "cell_type": "code",
      "source": [
        "from sklearn.neighbors import KNeighborsClassifier\n",
        "\n",
        "knn = KNeighborsClassifier()\n"
      ],
      "metadata": {
        "collapsed": true,
        "id": "N7IRLljAaVh1"
      },
      "execution_count": null,
      "outputs": []
    },
    {
      "cell_type": "code",
      "source": [
        "knn.fit(X_train, y_train)\n"
      ],
      "metadata": {
        "id": "JGSjLk35d5Oe"
      },
      "execution_count": 50,
      "outputs": []
    },
    {
      "cell_type": "code",
      "source": [
        "y_pred = knn.predict(X_test)\n"
      ],
      "metadata": {
        "id": "76_MXtg3d-Wo"
      },
      "execution_count": null,
      "outputs": []
    },
    {
      "cell_type": "code",
      "source": [
        "\n",
        "from sklearn.metrics import f1_score\n",
        "f1_score_test = f1_score(y_test, y_pred)\n",
        "\n",
        "print(\"F1-score: \", f1_score_test)\n"
      ],
      "metadata": {
        "id": "uSsFJVRkhFtR"
      },
      "execution_count": null,
      "outputs": []
    }
  ]
}