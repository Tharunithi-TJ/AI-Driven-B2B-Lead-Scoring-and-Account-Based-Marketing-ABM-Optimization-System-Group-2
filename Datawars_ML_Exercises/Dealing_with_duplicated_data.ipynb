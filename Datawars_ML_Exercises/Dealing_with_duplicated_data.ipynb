{
  "nbformat": 4,
  "nbformat_minor": 0,
  "metadata": {
    "colab": {
      "provenance": []
    },
    "kernelspec": {
      "name": "python3",
      "display_name": "Python 3"
    },
    "language_info": {
      "name": "python"
    }
  },
  "cells": [
    {
      "cell_type": "code",
      "execution_count": 65,
      "metadata": {
        "id": "6vL-Nl86Ek93"
      },
      "outputs": [],
      "source": [
        "import pandas as pd\n",
        "import numpy as np"
      ]
    },
    {
      "cell_type": "code",
      "source": [
        "import pandas as pd\n",
        "\n",
        "# Sample dataset with duplicate entries\n",
        "data = {\n",
        "    'Customer_ID': [1, 2, 3, 4, 1, 5, 2, 6],\n",
        "    'Product_ID': ['A', 'B', 'C', 'D', 'A', 'E', 'B', 'F'],\n",
        "    'Review_Text': ['Great product', 'Good product', 'Average', 'Not satisfied', 'Great product', 'Excellent', 'Good product', 'Very satisfied'],\n",
        "    'Rating': [5, 4, 3, 2, 5, 5, 4, 5]\n",
        "}\n",
        "\n",
        "df = pd.DataFrame(data)\n",
        "\n",
        "# Identifying and handling duplicates\n",
        "duplicate_rows = df[df.duplicated(['Customer_ID', 'Product_ID', 'Review_Text'], keep='first')]\n",
        "df_cleaned = df.drop_duplicates(['Customer_ID', 'Product_ID', 'Review_Text'], keep='first')\n",
        "\n",
        "# Displaying the original and cleaned datasets\n",
        "print(\"Original Dataset:\")\n",
        "print(df)\n",
        "\n",
        "print(\"\\nDuplicate Rows:\")\n",
        "print(duplicate_rows)\n",
        "\n",
        "print(\"\\nCleaned Dataset:\")\n",
        "print(df_cleaned)\n"
      ],
      "metadata": {
        "colab": {
          "base_uri": "https://localhost:8080/"
        },
        "id": "Q68PgK8yVgEH",
        "outputId": "0c145294-8f97-46cb-c0f4-68a8e476fc2e"
      },
      "execution_count": 66,
      "outputs": [
        {
          "output_type": "stream",
          "name": "stdout",
          "text": [
            "Original Dataset:\n",
            "   Customer_ID Product_ID     Review_Text  Rating\n",
            "0            1          A   Great product       5\n",
            "1            2          B    Good product       4\n",
            "2            3          C         Average       3\n",
            "3            4          D   Not satisfied       2\n",
            "4            1          A   Great product       5\n",
            "5            5          E       Excellent       5\n",
            "6            2          B    Good product       4\n",
            "7            6          F  Very satisfied       5\n",
            "\n",
            "Duplicate Rows:\n",
            "   Customer_ID Product_ID    Review_Text  Rating\n",
            "4            1          A  Great product       5\n",
            "6            2          B   Good product       4\n",
            "\n",
            "Cleaned Dataset:\n",
            "   Customer_ID Product_ID     Review_Text  Rating\n",
            "0            1          A   Great product       5\n",
            "1            2          B    Good product       4\n",
            "2            3          C         Average       3\n",
            "3            4          D   Not satisfied       2\n",
            "5            5          E       Excellent       5\n",
            "7            6          F  Very satisfied       5\n"
          ]
        }
      ]
    },
    {
      "cell_type": "markdown",
      "source": [
        "Quiz and answers:\n",
        "\n",
        "1.Check if any of the record of the dataset is duplicated\n",
        "\n",
        "\n",
        "There are 9 duplicated rows"
      ],
      "metadata": {
        "id": "pF_lVUR1i9w8"
      }
    },
    {
      "cell_type": "markdown",
      "source": [
        "2.Your task is to check for duplicates in a specific column of a given DataFrame. Select the correct code\n",
        "\n",
        "\n",
        "df.duplicated('TypeText')\n",
        "\n"
      ],
      "metadata": {
        "id": "YgQFeCg2jFpG"
      }
    },
    {
      "cell_type": "markdown",
      "source": [
        "3.Your task is to drop duplicate rows from a given DataFrame and retain the first occurrence of each duplicated row. Select the correct code.\n",
        "\n",
        "\n",
        "df.drop_duplicates( keep='first',inplace=True)"
      ],
      "metadata": {
        "id": "o_gqQQgxjMnK"
      }
    },
    {
      "cell_type": "markdown",
      "source": [
        "4.True or False: Ignoring duplicate entries in a dataset is a recommended practice, as they don't significantly impact the accuracy of data analysis and decision-making.\n",
        "\n",
        "\n",
        "False."
      ],
      "metadata": {
        "id": "ooMJ7UqRjQlb"
      }
    }
  ]
}