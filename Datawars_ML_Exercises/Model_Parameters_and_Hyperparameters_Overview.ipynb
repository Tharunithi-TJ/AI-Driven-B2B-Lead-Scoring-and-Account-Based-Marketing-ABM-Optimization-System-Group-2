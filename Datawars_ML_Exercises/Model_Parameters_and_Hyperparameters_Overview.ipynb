{
  "nbformat": 4,
  "nbformat_minor": 0,
  "metadata": {
    "colab": {
      "provenance": []
    },
    "kernelspec": {
      "name": "python3",
      "display_name": "Python 3"
    },
    "language_info": {
      "name": "python"
    }
  },
  "cells": [
    {
      "cell_type": "code",
      "execution_count": 65,
      "metadata": {
        "id": "6vL-Nl86Ek93"
      },
      "outputs": [],
      "source": [
        "import numpy as np\n",
        "import pandas as pd\n",
        "import matplotlib.pyplot as plt\n",
        "from sklearn.model_selection import train_test_split\n",
        "from sklearn.model_selection import validation_curve\n",
        "from sklearn.svm import SVC\n"
      ]
    },
    {
      "cell_type": "code",
      "source": [
        "iris_df=pd.read_csv('iris_dataset.csv')\n",
        "iris_df.head()"
      ],
      "metadata": {
        "id": "Q68PgK8yVgEH"
      },
      "execution_count": null,
      "outputs": []
    },
    {
      "cell_type": "code",
      "source": [
        "\n",
        "X=iris_df.drop(columns='target')\n",
        "y=iris_df.target\n"
      ],
      "metadata": {
        "id": "sWAISKwclQF1"
      },
      "execution_count": null,
      "outputs": []
    },
    {
      "cell_type": "code",
      "source": [
        "X_train, X_test, y_train, y_test = train_test_split(X, y, test_size=0.2, random_state=42)\n",
        "\n",
        "# Step 2: Choose a machine learning model and create an instance with different hyperparameters.\n",
        "from sklearn.svm import SVC\n",
        "\n",
        "# Create an instance of Support Vector Machine (SVM) with different hyperparameters\n",
        "svm_model = SVC(kernel='linear', C=0.001)\n",
        "\n",
        "# Step 3: Train the model using the training data.\n",
        "svm_model.fit(X_train, y_train)\n",
        "\n",
        "# Step 4: Evaluate the model's performance on the testing data.\n",
        "accuracy = svm_model.score(X_test, y_test)\n",
        "print(f\"Model Accuracy: {accuracy:.2f}\")\n",
        "\n",
        "# Step 5: Experiment with changing hyperparameter values and observe their impact.\n",
        "svm_model_rbf = SVC(kernel='linear', C=1)\n",
        "svm_model_rbf.fit(X_train, y_train)\n",
        "accuracy_rbf = svm_model_rbf.score(X_test, y_test)\n",
        "print(f\"Model Accuracy : {accuracy_rbf:.2f}\")\n"
      ],
      "metadata": {
        "id": "fy1QgTsPlUOx"
      },
      "execution_count": null,
      "outputs": []
    },
    {
      "cell_type": "markdown",
      "source": [
        "Quiz and answers:\n",
        "\n",
        "1.Which of the following is NOT a machine learning model used in the exercise?\n",
        "\n",
        "\n",
        "Linear Regression"
      ],
      "metadata": {
        "id": "pF_lVUR1i9w8"
      }
    },
    {
      "cell_type": "markdown",
      "source": [
        "2.How can changing hyperparameter values impact a model's performance?\n",
        "\n",
        "\n",
        "It can lead to both improvements and deteriorations in performance.\n",
        "\n",
        "\n"
      ],
      "metadata": {
        "id": "YgQFeCg2jFpG"
      }
    },
    {
      "cell_type": "markdown",
      "source": [
        "3.True or False: The accuracy of the SVM with linear kernel model decreases with low values of C.\n",
        "\n",
        "\n",
        "True"
      ],
      "metadata": {
        "id": "o_gqQQgxjMnK"
      }
    },
    {
      "cell_type": "markdown",
      "source": [
        "4.True or False: The accuracy of the Random Forest model decreases with low values of max_depth (with max_depth=2 and 5).\n",
        "\n",
        "\n",
        "False"
      ],
      "metadata": {
        "id": "ooMJ7UqRjQlb"
      }
    }
  ]
}