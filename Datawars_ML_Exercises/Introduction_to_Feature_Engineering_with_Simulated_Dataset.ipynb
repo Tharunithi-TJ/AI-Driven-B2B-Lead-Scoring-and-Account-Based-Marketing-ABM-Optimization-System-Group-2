{
  "nbformat": 4,
  "nbformat_minor": 0,
  "metadata": {
    "colab": {
      "provenance": []
    },
    "kernelspec": {
      "name": "python3",
      "display_name": "Python 3"
    },
    "language_info": {
      "name": "python"
    }
  },
  "cells": [
    {
      "cell_type": "code",
      "execution_count": 52,
      "metadata": {
        "id": "6vL-Nl86Ek93"
      },
      "outputs": [],
      "source": [
        "import pandas as pd\n",
        "import numpy as np"
      ]
    },
    {
      "cell_type": "code",
      "source": [
        "\n",
        "# Set random seed for reproducibility\n",
        "np.random.seed(42)\n",
        "\n",
        "# Generate random categorical variables\n",
        "categories = ['Category1', 'Category2', 'Category3']\n",
        "categorical_data = np.random.choice(categories, size=100, replace=True)\n",
        "\n",
        "# Generate random numerical variables\n",
        "numerical_data = np.random.normal(loc=0, scale=1, size=100)\n",
        "\n",
        "# Generate random missing values\n",
        "missing_mask = np.random.choice([True, False], size=100, p=[0.2, 0.8])\n",
        "numerical_data[missing_mask] = np.nan\n",
        "\n",
        "# Create a DataFrame\n",
        "data = pd.DataFrame({\n",
        "    'Category': categorical_data,\n",
        "    'Numeric': numerical_data\n",
        "})\n",
        "\n",
        "# Print the DataFrame\n",
        "print(data.head())"
      ],
      "metadata": {
        "colab": {
          "base_uri": "https://localhost:8080/"
        },
        "id": "Q68PgK8yVgEH",
        "outputId": "6a917a01-203e-48a4-de90-056eff53121f"
      },
      "execution_count": 53,
      "outputs": [
        {
          "output_type": "stream",
          "name": "stdout",
          "text": [
            "    Category   Numeric\n",
            "0  Category3  0.582123\n",
            "1  Category1       NaN\n",
            "2  Category3  0.894332\n",
            "3  Category3  0.754998\n",
            "4  Category1 -0.207166\n"
          ]
        }
      ]
    },
    {
      "cell_type": "code",
      "source": [
        "df_encoded = pd.get_dummies(data, columns=['Category'])\n"
      ],
      "metadata": {
        "id": "c4axtKqFf4g6"
      },
      "execution_count": 54,
      "outputs": []
    },
    {
      "cell_type": "code",
      "source": [
        "df_filled = df_encoded.fillna(df_encoded.mean())\n"
      ],
      "metadata": {
        "id": "CunzKGcof-oW"
      },
      "execution_count": 55,
      "outputs": []
    },
    {
      "cell_type": "code",
      "source": [
        "df_filled['Feature1_squared'] = df_filled['Numeric'] ** 2\n",
        "df_filled['Feature2_cubed'] = df_filled['Numeric'] ** 3\n",
        "df_filled['Feature3_log'] = np.log(df_filled['Numeric'])\n"
      ],
      "metadata": {
        "colab": {
          "base_uri": "https://localhost:8080/"
        },
        "id": "u27jGn6hR6KY",
        "outputId": "ae7f0bed-ef0b-46cf-ad31-2ea7d9bfa15c"
      },
      "execution_count": 56,
      "outputs": [
        {
          "output_type": "stream",
          "name": "stderr",
          "text": [
            "/usr/local/lib/python3.10/dist-packages/pandas/core/arraylike.py:399: RuntimeWarning: invalid value encountered in log\n",
            "  result = getattr(ufunc, method)(*inputs, **kwargs)\n"
          ]
        }
      ]
    }
  ]
}