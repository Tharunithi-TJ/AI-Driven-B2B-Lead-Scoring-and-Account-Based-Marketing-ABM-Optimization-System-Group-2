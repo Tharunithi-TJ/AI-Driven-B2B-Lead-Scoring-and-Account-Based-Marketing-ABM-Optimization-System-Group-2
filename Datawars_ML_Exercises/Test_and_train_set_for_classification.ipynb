{
  "nbformat": 4,
  "nbformat_minor": 0,
  "metadata": {
    "colab": {
      "provenance": []
    },
    "kernelspec": {
      "name": "python3",
      "display_name": "Python 3"
    },
    "language_info": {
      "name": "python"
    }
  },
  "cells": [
    {
      "cell_type": "code",
      "execution_count": 10,
      "metadata": {
        "id": "6vL-Nl86Ek93"
      },
      "outputs": [],
      "source": [
        "import numpy as np\n",
        "import pandas as pd\n",
        "import seaborn as sns\n",
        "import matplotlib.pyplot as plt"
      ]
    },
    {
      "cell_type": "code",
      "source": [
        "df_t=pd.read_csv('Framinghan_10ys.csv')\n",
        "df_t.head()"
      ],
      "metadata": {
        "id": "4oeojTdmEwGh"
      },
      "execution_count": 8,
      "outputs": []
    },
    {
      "cell_type": "code",
      "source": [
        "df_t=df_t.drop('Unnamed: 0',axis=1)\n"
      ],
      "metadata": {
        "id": "MXgHYO56E_is"
      },
      "execution_count": 9,
      "outputs": []
    },
    {
      "cell_type": "code",
      "source": [
        "sns.set_palette(\"RdBu\")\n",
        "sns.countplot(data=df_t, x='TenYearCHD');"
      ],
      "metadata": {
        "id": "u9SC2WN_R3qz"
      },
      "execution_count": null,
      "outputs": []
    },
    {
      "cell_type": "code",
      "source": [
        "X=df_t.drop(['TenYearCHD'], axis=1)\n",
        "y=df_t['TenYearCHD']\n"
      ],
      "metadata": {
        "id": "u27jGn6hR6KY"
      },
      "execution_count": null,
      "outputs": []
    },
    {
      "cell_type": "code",
      "source": [
        "from sklearn.model_selection import train_test_split\n",
        "random_state=0\n",
        "X_train, X_test, y_train, y_test = train_test_split(X,y,test_size=0.2 ,random_state=random_state)\n"
      ],
      "metadata": {
        "id": "19WfOdD4R8Do"
      },
      "execution_count": null,
      "outputs": []
    }
  ]
}